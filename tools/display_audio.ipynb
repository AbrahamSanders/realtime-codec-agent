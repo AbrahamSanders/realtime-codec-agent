{
 "cells": [
  {
   "cell_type": "code",
   "execution_count": null,
   "id": "8fd1dfde",
   "metadata": {},
   "outputs": [],
   "source": [
    "from IPython.display import Audio, display\n",
    "import numpy as np\n",
    "import matplotlib.pyplot as plt\n",
    "import librosa\n",
    "\n",
    "def display_audio(audio):\n",
    "    if audio.ndim == 1:\n",
    "        audio = audio[None, :]\n",
    "\n",
    "    # Make a waveform plot\n",
    "    plt.figure(figsize=(4, 1))\n",
    "    for i in range(audio.shape[0]):\n",
    "        plt.plot(audio[i], linewidth=0.5)\n",
    "    plt.axis('off')\n",
    "    plt.show()\n",
    "\n",
    "    # Make an audio player\n",
    "    display(Audio(audio, rate=sr))\n",
    "\n",
    "def display_chunk_rms(audio, chunk_size_secs=0.1):\n",
    "    chunk_size_samples = int(chunk_size_secs * sr)\n",
    "    rms_values = []\n",
    "    \n",
    "    for start in range(0, audio.shape[-1], chunk_size_samples):\n",
    "        end = start + chunk_size_samples\n",
    "        chunk = audio[..., start:end]\n",
    "        rms = np.sqrt(np.mean(chunk ** 2, axis=-1))\n",
    "        rms_values.append(rms)\n",
    "\n",
    "    plt.figure(figsize=(10, 4))\n",
    "    plt.plot(rms_values, label='RMS', color='blue')\n",
    "    plt.xlabel('Chunk Index')\n",
    "    plt.ylabel('RMS Value')\n",
    "    plt.title('RMS of Audio Chunks')\n",
    "    plt.legend()\n",
    "    plt.grid()\n",
    "    plt.show()\n",
    "\n",
    "filename = \"../experimental/audio (4) (1).wav\"\n",
    "cut_to = 60\n",
    "audio, sr = librosa.load(filename, mono=False)\n",
    "if cut_to:\n",
    "    audio = audio[..., :int(sr * cut_to)]\n",
    "if audio.ndim == 2:\n",
    "    for channel in range(audio.shape[0]):\n",
    "        print(f\"Channel {channel}: {audio[channel].shape} @ {sr} Hz\")\n",
    "        display_audio(audio[channel])\n",
    "        display_chunk_rms(audio[channel])\n",
    "print(f\"All Channels: {audio.shape} @ {sr} Hz\")\n",
    "display_audio(audio)\n",
    "display_chunk_rms(audio)"
   ]
  }
 ],
 "metadata": {
  "kernelspec": {
   "display_name": "bark2",
   "language": "python",
   "name": "python3"
  },
  "language_info": {
   "codemirror_mode": {
    "name": "ipython",
    "version": 3
   },
   "file_extension": ".py",
   "mimetype": "text/x-python",
   "name": "python",
   "nbconvert_exporter": "python",
   "pygments_lexer": "ipython3",
   "version": "3.9.16"
  }
 },
 "nbformat": 4,
 "nbformat_minor": 5
}
