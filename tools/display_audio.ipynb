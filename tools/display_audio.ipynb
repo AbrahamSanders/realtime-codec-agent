{
 "cells": [
  {
   "cell_type": "code",
   "execution_count": null,
   "id": "8fd1dfde",
   "metadata": {},
   "outputs": [],
   "source": [
    "from IPython.display import Audio, display\n",
    "import matplotlib.pyplot as plt\n",
    "import librosa\n",
    "\n",
    "def display_audio(audio):\n",
    "    if audio.ndim == 1:\n",
    "        audio = audio[None, :]\n",
    "\n",
    "    # Make a waveform plot\n",
    "    plt.figure(figsize=(4, 1))\n",
    "    for i in range(audio.shape[0]):\n",
    "        plt.plot(audio[i], linewidth=0.5)\n",
    "    plt.axis('off')\n",
    "    plt.show()\n",
    "\n",
    "    # Make an audio player\n",
    "    display(Audio(audio, rate=sr))\n",
    "\n",
    "filename = \"../data/audio/raw/SBCSAE/07.mp3\"\n",
    "cut_to = 60\n",
    "audio, sr = librosa.load(filename, mono=False)\n",
    "if cut_to:\n",
    "    audio = audio[..., :int(sr * cut_to)]\n",
    "if audio.ndim == 2:\n",
    "    for channel in range(audio.shape[0]):\n",
    "        print(f\"Channel {channel}: {audio[channel].shape} @ {sr} Hz\")\n",
    "        display_audio(audio[channel])\n",
    "print(f\"All Channels: {audio.shape} @ {sr} Hz\")\n",
    "display_audio(audio)"
   ]
  }
 ],
 "metadata": {
  "kernelspec": {
   "display_name": "bark2",
   "language": "python",
   "name": "python3"
  },
  "language_info": {
   "codemirror_mode": {
    "name": "ipython",
    "version": 3
   },
   "file_extension": ".py",
   "mimetype": "text/x-python",
   "name": "python",
   "nbconvert_exporter": "python",
   "pygments_lexer": "ipython3",
   "version": "3.9.16"
  }
 },
 "nbformat": 4,
 "nbformat_minor": 5
}
